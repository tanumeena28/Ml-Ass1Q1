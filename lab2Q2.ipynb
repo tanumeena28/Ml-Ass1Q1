{
  "nbformat": 4,
  "nbformat_minor": 0,
  "metadata": {
    "colab": {
      "provenance": [],
      "authorship_tag": "ABX9TyNAkKbJRYZcEeNNdxm6F1sZ",
      "include_colab_link": true
    },
    "kernelspec": {
      "name": "python3",
      "display_name": "Python 3"
    },
    "language_info": {
      "name": "python"
    }
  },
  "cells": [
    {
      "cell_type": "markdown",
      "metadata": {
        "id": "view-in-github",
        "colab_type": "text"
      },
      "source": [
        "<a href=\"https://colab.research.google.com/github/tanumeena28/Ml-Ass1Q1/blob/main/lab2Q2.ipynb\" target=\"_parent\"><img src=\"https://colab.research.google.com/assets/colab-badge.svg\" alt=\"Open In Colab\"/></a>"
      ]
    },
    {
      "cell_type": "code",
      "execution_count": 1,
      "metadata": {
        "id": "9pknWLUNvx3e"
      },
      "outputs": [],
      "source": [
        "import pandas as pd\n",
        "import numpy as np\n",
        "import matplotlib.pyplot as plt\n",
        "import seaborn as sns\n",
        "import warnings\n",
        "warnings.filterwarnings('ignore')"
      ]
    },
    {
      "cell_type": "code",
      "source": [
        "from google.colab import files\n",
        "uploaded = files.upload()"
      ],
      "metadata": {
        "colab": {
          "base_uri": "https://localhost:8080/",
          "height": 73
        },
        "id": "d9noWxy-wDTv",
        "outputId": "86356402-5018-4079-c09c-ad3a088ec2cb"
      },
      "execution_count": 2,
      "outputs": [
        {
          "output_type": "display_data",
          "data": {
            "text/plain": [
              "<IPython.core.display.HTML object>"
            ],
            "text/html": [
              "\n",
              "     <input type=\"file\" id=\"files-98070a4d-721d-4384-a47c-2b23d7629cdb\" name=\"files[]\" multiple disabled\n",
              "        style=\"border:none\" />\n",
              "     <output id=\"result-98070a4d-721d-4384-a47c-2b23d7629cdb\">\n",
              "      Upload widget is only available when the cell has been executed in the\n",
              "      current browser session. Please rerun this cell to enable.\n",
              "      </output>\n",
              "      <script>// Copyright 2017 Google LLC\n",
              "//\n",
              "// Licensed under the Apache License, Version 2.0 (the \"License\");\n",
              "// you may not use this file except in compliance with the License.\n",
              "// You may obtain a copy of the License at\n",
              "//\n",
              "//      http://www.apache.org/licenses/LICENSE-2.0\n",
              "//\n",
              "// Unless required by applicable law or agreed to in writing, software\n",
              "// distributed under the License is distributed on an \"AS IS\" BASIS,\n",
              "// WITHOUT WARRANTIES OR CONDITIONS OF ANY KIND, either express or implied.\n",
              "// See the License for the specific language governing permissions and\n",
              "// limitations under the License.\n",
              "\n",
              "/**\n",
              " * @fileoverview Helpers for google.colab Python module.\n",
              " */\n",
              "(function(scope) {\n",
              "function span(text, styleAttributes = {}) {\n",
              "  const element = document.createElement('span');\n",
              "  element.textContent = text;\n",
              "  for (const key of Object.keys(styleAttributes)) {\n",
              "    element.style[key] = styleAttributes[key];\n",
              "  }\n",
              "  return element;\n",
              "}\n",
              "\n",
              "// Max number of bytes which will be uploaded at a time.\n",
              "const MAX_PAYLOAD_SIZE = 100 * 1024;\n",
              "\n",
              "function _uploadFiles(inputId, outputId) {\n",
              "  const steps = uploadFilesStep(inputId, outputId);\n",
              "  const outputElement = document.getElementById(outputId);\n",
              "  // Cache steps on the outputElement to make it available for the next call\n",
              "  // to uploadFilesContinue from Python.\n",
              "  outputElement.steps = steps;\n",
              "\n",
              "  return _uploadFilesContinue(outputId);\n",
              "}\n",
              "\n",
              "// This is roughly an async generator (not supported in the browser yet),\n",
              "// where there are multiple asynchronous steps and the Python side is going\n",
              "// to poll for completion of each step.\n",
              "// This uses a Promise to block the python side on completion of each step,\n",
              "// then passes the result of the previous step as the input to the next step.\n",
              "function _uploadFilesContinue(outputId) {\n",
              "  const outputElement = document.getElementById(outputId);\n",
              "  const steps = outputElement.steps;\n",
              "\n",
              "  const next = steps.next(outputElement.lastPromiseValue);\n",
              "  return Promise.resolve(next.value.promise).then((value) => {\n",
              "    // Cache the last promise value to make it available to the next\n",
              "    // step of the generator.\n",
              "    outputElement.lastPromiseValue = value;\n",
              "    return next.value.response;\n",
              "  });\n",
              "}\n",
              "\n",
              "/**\n",
              " * Generator function which is called between each async step of the upload\n",
              " * process.\n",
              " * @param {string} inputId Element ID of the input file picker element.\n",
              " * @param {string} outputId Element ID of the output display.\n",
              " * @return {!Iterable<!Object>} Iterable of next steps.\n",
              " */\n",
              "function* uploadFilesStep(inputId, outputId) {\n",
              "  const inputElement = document.getElementById(inputId);\n",
              "  inputElement.disabled = false;\n",
              "\n",
              "  const outputElement = document.getElementById(outputId);\n",
              "  outputElement.innerHTML = '';\n",
              "\n",
              "  const pickedPromise = new Promise((resolve) => {\n",
              "    inputElement.addEventListener('change', (e) => {\n",
              "      resolve(e.target.files);\n",
              "    });\n",
              "  });\n",
              "\n",
              "  const cancel = document.createElement('button');\n",
              "  inputElement.parentElement.appendChild(cancel);\n",
              "  cancel.textContent = 'Cancel upload';\n",
              "  const cancelPromise = new Promise((resolve) => {\n",
              "    cancel.onclick = () => {\n",
              "      resolve(null);\n",
              "    };\n",
              "  });\n",
              "\n",
              "  // Wait for the user to pick the files.\n",
              "  const files = yield {\n",
              "    promise: Promise.race([pickedPromise, cancelPromise]),\n",
              "    response: {\n",
              "      action: 'starting',\n",
              "    }\n",
              "  };\n",
              "\n",
              "  cancel.remove();\n",
              "\n",
              "  // Disable the input element since further picks are not allowed.\n",
              "  inputElement.disabled = true;\n",
              "\n",
              "  if (!files) {\n",
              "    return {\n",
              "      response: {\n",
              "        action: 'complete',\n",
              "      }\n",
              "    };\n",
              "  }\n",
              "\n",
              "  for (const file of files) {\n",
              "    const li = document.createElement('li');\n",
              "    li.append(span(file.name, {fontWeight: 'bold'}));\n",
              "    li.append(span(\n",
              "        `(${file.type || 'n/a'}) - ${file.size} bytes, ` +\n",
              "        `last modified: ${\n",
              "            file.lastModifiedDate ? file.lastModifiedDate.toLocaleDateString() :\n",
              "                                    'n/a'} - `));\n",
              "    const percent = span('0% done');\n",
              "    li.appendChild(percent);\n",
              "\n",
              "    outputElement.appendChild(li);\n",
              "\n",
              "    const fileDataPromise = new Promise((resolve) => {\n",
              "      const reader = new FileReader();\n",
              "      reader.onload = (e) => {\n",
              "        resolve(e.target.result);\n",
              "      };\n",
              "      reader.readAsArrayBuffer(file);\n",
              "    });\n",
              "    // Wait for the data to be ready.\n",
              "    let fileData = yield {\n",
              "      promise: fileDataPromise,\n",
              "      response: {\n",
              "        action: 'continue',\n",
              "      }\n",
              "    };\n",
              "\n",
              "    // Use a chunked sending to avoid message size limits. See b/62115660.\n",
              "    let position = 0;\n",
              "    do {\n",
              "      const length = Math.min(fileData.byteLength - position, MAX_PAYLOAD_SIZE);\n",
              "      const chunk = new Uint8Array(fileData, position, length);\n",
              "      position += length;\n",
              "\n",
              "      const base64 = btoa(String.fromCharCode.apply(null, chunk));\n",
              "      yield {\n",
              "        response: {\n",
              "          action: 'append',\n",
              "          file: file.name,\n",
              "          data: base64,\n",
              "        },\n",
              "      };\n",
              "\n",
              "      let percentDone = fileData.byteLength === 0 ?\n",
              "          100 :\n",
              "          Math.round((position / fileData.byteLength) * 100);\n",
              "      percent.textContent = `${percentDone}% done`;\n",
              "\n",
              "    } while (position < fileData.byteLength);\n",
              "  }\n",
              "\n",
              "  // All done.\n",
              "  yield {\n",
              "    response: {\n",
              "      action: 'complete',\n",
              "    }\n",
              "  };\n",
              "}\n",
              "\n",
              "scope.google = scope.google || {};\n",
              "scope.google.colab = scope.google.colab || {};\n",
              "scope.google.colab._files = {\n",
              "  _uploadFiles,\n",
              "  _uploadFilesContinue,\n",
              "};\n",
              "})(self);\n",
              "</script> "
            ]
          },
          "metadata": {}
        },
        {
          "output_type": "stream",
          "name": "stdout",
          "text": [
            "Saving faa_ai_prelim.csv to faa_ai_prelim.csv\n"
          ]
        }
      ]
    },
    {
      "cell_type": "code",
      "source": [
        "df = pd.read_csv('faa_ai_prelim.csv',low_memory=False)"
      ],
      "metadata": {
        "id": "VECMoCsDwdKI"
      },
      "execution_count": 4,
      "outputs": []
    },
    {
      "cell_type": "code",
      "source": [
        "print(\"shape:\",df.shape)\n",
        "print(\"columns:\",df.columns.tolist())"
      ],
      "metadata": {
        "colab": {
          "base_uri": "https://localhost:8080/"
        },
        "id": "cuvoljmRwlRS",
        "outputId": "9791b14b-9056-45e5-d069-25b73d71931f"
      },
      "execution_count": 7,
      "outputs": [
        {
          "output_type": "stream",
          "name": "stdout",
          "text": [
            "shape: (83, 42)\n",
            "columns: ['UPDATED', 'ENTRY_DATE', 'EVENT_LCL_DATE', 'EVENT_LCL_TIME', 'LOC_CITY_NAME', 'LOC_STATE_NAME', 'LOC_CNTRY_NAME', 'RMK_TEXT', 'EVENT_TYPE_DESC', 'FSDO_DESC', 'REGIST_NBR', 'FLT_NBR', 'ACFT_OPRTR', 'ACFT_MAKE_NAME', 'ACFT_MODEL_NAME', 'ACFT_MISSING_FLAG', 'ACFT_DMG_DESC', 'FLT_ACTIVITY', 'FLT_PHASE', 'FAR_PART', 'MAX_INJ_LVL', 'FATAL_FLAG', 'FLT_CRW_INJ_NONE', 'FLT_CRW_INJ_MINOR', 'FLT_CRW_INJ_SERIOUS', 'FLT_CRW_INJ_FATAL', 'FLT_CRW_INJ_UNK', 'CBN_CRW_INJ_NONE', 'CBN_CRW_INJ_MINOR', 'CBN_CRW_INJ_SERIOUS', 'CBN_CRW_INJ_FATAL', 'CBN_CRW_INJ_UNK', 'PAX_INJ_NONE', 'PAX_INJ_MINOR', 'PAX_INJ_SERIOUS', 'PAX_INJ_FATAL', 'PAX_INJ_UNK', 'GRND_INJ_NONE', 'GRND_INJ_MINOR', 'GRND_INJ_SERIOUS', 'GRND_INJ_FATAL', 'GRND_INJ_UNK']\n"
          ]
        }
      ]
    },
    {
      "cell_type": "code",
      "source": [
        "df[\"EVENT_DATETIME\"] = pd.to_datetime(\n",
        "    df[\"EVENT_LCL_DATE\"].astype(str) + \" \" + df[\"EVENT_LCL_TIME\"].astype(str),\n",
        "    errors=\"coerce\"\n",
        ")"
      ],
      "metadata": {
        "id": "uw2ReiaTxS7t"
      },
      "execution_count": 8,
      "outputs": []
    },
    {
      "cell_type": "code",
      "source": [
        "required_cols = [\n",
        "    \"ACFT_MAKE_NAME\",\n",
        "    \"LOC_STATE_NAME\",\n",
        "    \"ACFT_MODEL_NAME\",\n",
        "    \"RMK_TEXT\",\n",
        "    \"FLT_PHASE\",\n",
        "    \"EVENT_TYPE_DESC\",\n",
        "    \"FATAL_FLAG\", # Add 'FATAL_FLAG' to the list of required columns\n",
        "    \"ACFT_DMG_DESC\"\n",
        "]\n",
        "\n",
        "df_req = df[required_cols].copy()"
      ],
      "metadata": {
        "id": "NhSBRS_FxaNR"
      },
      "execution_count": 20,
      "outputs": []
    },
    {
      "cell_type": "code",
      "source": [
        "txt = df_req[\"RMK_TEXT\"].astype(str).str.upper()\n",
        "fatal_keywords = [\"FATAL\", \"KILL\", \"DIED\", \"DEATH\", \"FATALITY\", \"FATALLY\"]\n",
        "cond_fatal = txt.apply(lambda x: any(k in x for k in fatal_keywords))\n",
        "df_req.loc[cond_fatal, \"FATAL_FLAG\"] = \"Yes\"\n",
        "df_req[\"FATAL_FLAG\"] = df_req[\"FATAL_FLAG\"].fillna(\"No\")\n"
      ],
      "metadata": {
        "id": "b2rqSnGsyEbt"
      },
      "execution_count": 21,
      "outputs": []
    },
    {
      "cell_type": "code",
      "source": [
        "for col in [\"FLT_PHASE\", \"ACFT_DMG_DESC\"]:\n",
        "    mode_val = df_req[col].mode(dropna=True)[0]\n",
        "    df_req[col] = df_req[col].fillna(mode_val)\n"
      ],
      "metadata": {
        "id": "uv7AMASxyIir"
      },
      "execution_count": 22,
      "outputs": []
    },
    {
      "cell_type": "code",
      "source": [
        "print(\"Missing values:\\n\", df_req.isnull().sum())"
      ],
      "metadata": {
        "colab": {
          "base_uri": "https://localhost:8080/"
        },
        "id": "_rJJ0nJ8yMIQ",
        "outputId": "fad21977-293b-49ca-8f07-0538fca9bcbb"
      },
      "execution_count": 23,
      "outputs": [
        {
          "output_type": "stream",
          "name": "stdout",
          "text": [
            "Missing values:\n",
            " ACFT_MAKE_NAME     5\n",
            "LOC_STATE_NAME     0\n",
            "ACFT_MODEL_NAME    4\n",
            "RMK_TEXT           0\n",
            "FLT_PHASE          0\n",
            "EVENT_TYPE_DESC    0\n",
            "FATAL_FLAG         0\n",
            "ACFT_DMG_DESC      0\n",
            "dtype: int64\n"
          ]
        }
      ]
    },
    {
      "cell_type": "code",
      "source": [
        "before_count = df_req.shape[0]\n",
        "df_req = df_req[df_req[\"ACFT_MAKE_NAME\"].notna() & (df_req[\"ACFT_MAKE_NAME\"].str.strip() != \"\")]\n",
        "df_req = df_req[df_req[\"ACFT_MODEL_NAME\"].notna() & (df_req[\"ACFT_MODEL_NAME\"].str.strip() != \"\")]\n",
        "after_count = df_req.shape[0]\n",
        "print(f\"Dropped {before_count - after_count} rows with missing aircraft names.\")\n"
      ],
      "metadata": {
        "colab": {
          "base_uri": "https://localhost:8080/"
        },
        "id": "5bLFumzVyRtJ",
        "outputId": "29cb5959-2ed6-4385-94df-7b5419eff7c4"
      },
      "execution_count": 24,
      "outputs": [
        {
          "output_type": "stream",
          "name": "stdout",
          "text": [
            "Dropped 6 rows with missing aircraft names.\n"
          ]
        }
      ]
    },
    {
      "cell_type": "code",
      "source": [
        "threshold = 0.75 * len(df)\n",
        "cols_to_drop = [col for col in df.columns if df[col].isnull().sum() > threshold]\n",
        "df_req = df_req.drop(columns=[c for c in cols_to_drop if c in df_req.columns])\n"
      ],
      "metadata": {
        "id": "8CCY7geOyjbc"
      },
      "execution_count": 25,
      "outputs": []
    },
    {
      "cell_type": "code",
      "source": [
        "print(df_req.groupby(\"ACFT_MAKE_NAME\").size().sort_values(ascending=False))\n"
      ],
      "metadata": {
        "colab": {
          "base_uri": "https://localhost:8080/"
        },
        "id": "CGrWd31wyn7h",
        "outputId": "7c480147-7c9d-4936-ba6c-9379f7b1cb99"
      },
      "execution_count": 26,
      "outputs": [
        {
          "output_type": "stream",
          "name": "stdout",
          "text": [
            "ACFT_MAKE_NAME\n",
            "CESSNA                    23\n",
            "PIPER                     10\n",
            "BEECH                      9\n",
            "MOONEY                     4\n",
            "BOEING                     3\n",
            "SOCATA                     2\n",
            "LANCAIR                    2\n",
            "CHAMPION                   2\n",
            "BELL                       2\n",
            "AIRBUS                     1\n",
            "AEROSTAR INTERNATIONAL     1\n",
            "AERONCA                    1\n",
            "AERO COMMANDER             1\n",
            "FAIRCHILD                  1\n",
            "EMBRAER                    1\n",
            "CONSOLIDATED VULTEE        1\n",
            "CHRISTEN                   1\n",
            "GRUMMAN                    1\n",
            "FLIGHT DESIGN              1\n",
            "GREAT LAKES                1\n",
            "GLOBE                      1\n",
            "MAULE                      1\n",
            "HUGHES                     1\n",
            "GULFSTREAM                 1\n",
            "NORTH AMERICAN             1\n",
            "PITTS                      1\n",
            "SAAB                       1\n",
            "SABRELINER                 1\n",
            "VANS                       1\n",
            "dtype: int64\n"
          ]
        }
      ]
    },
    {
      "cell_type": "code",
      "source": [
        "print(df_req[df_req[\"FATAL_FLAG\"] == \"Yes\"])\n"
      ],
      "metadata": {
        "colab": {
          "base_uri": "https://localhost:8080/"
        },
        "id": "6hYZwAQJy683",
        "outputId": "b1574e2a-f249-4081-c161-9cfab55f6074"
      },
      "execution_count": 43,
      "outputs": [
        {
          "output_type": "stream",
          "name": "stdout",
          "text": [
            "    ACFT_MAKE_NAME  LOC_STATE_NAME ACFT_MODEL_NAME  \\\n",
            "0            BEECH  North Carolina              36   \n",
            "53           PIPER         Florida            PA28   \n",
            "55   FLIGHT DESIGN      California            CTLS   \n",
            "79  NORTH AMERICAN         Arizona             F51   \n",
            "80        CHAMPION      California           8KCAB   \n",
            "81           BEECH      California              35   \n",
            "82          CESSNA         Alabama             182   \n",
            "\n",
            "                                             RMK_TEXT      FLT_PHASE  \\\n",
            "0   AIRCRAFT CRASHED INTO TREES, THE 1 PERSON ON B...  UNKNOWN (UNK)   \n",
            "53  AIRCRAFT CRASHED UNDER UNKNOWN CIRCUMSTANCES. ...  UNKNOWN (UNK)   \n",
            "55  AIRCRAFT CRASHED UNDER UNKNOWN CIRCUMSTANCES A...  UNKNOWN (UNK)   \n",
            "79  AIRCRAFT CRASHED UNDER UNKNOWN CIRCUMSTANCES, ...  UNKNOWN (UNK)   \n",
            "80  N9872R, BEECH M35 AIRCRAFT, AND N5057G, BELLAN...  UNKNOWN (UNK)   \n",
            "81  N9872R, BEECH M35 AIRCRAFT, AND N5057G, BELLAN...  UNKNOWN (UNK)   \n",
            "82  N784CP AIRCRAFT CRASHED INTO A WOODED AREA NEA...  UNKNOWN (UNK)   \n",
            "\n",
            "   EVENT_TYPE_DESC FATAL_FLAG  DMG_Destroyed  DMG_Minor  DMG_Substantial  \\\n",
            "0         Accident        Yes          False      False            False   \n",
            "53        Accident        Yes           True      False            False   \n",
            "55        Accident        Yes           True      False            False   \n",
            "79        Accident        Yes           True      False            False   \n",
            "80        Accident        Yes           True      False            False   \n",
            "81        Accident        Yes           True      False            False   \n",
            "82        Accident        Yes          False      False            False   \n",
            "\n",
            "   FLIGHT_PHASE_TEXT  \n",
            "0            UNKNOWN  \n",
            "53           UNKNOWN  \n",
            "55           UNKNOWN  \n",
            "79           UNKNOWN  \n",
            "80           UNKNOWN  \n",
            "81           UNKNOWN  \n",
            "82           UNKNOWN  \n"
          ]
        }
      ]
    },
    {
      "cell_type": "code",
      "metadata": {
        "id": "589b7e21"
      },
      "source": [
        "required_cols = [\n",
        "    \"ACFT_MAKE_NAME\",\n",
        "    \"LOC_STATE_NAME\",\n",
        "    \"ACFT_MODEL_NAME\",\n",
        "    \"RMK_TEXT\",\n",
        "    \"FLT_PHASE\",\n",
        "    \"EVENT_TYPE_DESC\",\n",
        "    \"FATAL_FLAG\", # Ensure 'FATAL_FLAG' is included\n",
        "    \"ACFT_DMG_DESC\"\n",
        "]\n",
        "\n",
        "df_req = df[required_cols].copy()"
      ],
      "execution_count": 31,
      "outputs": []
    },
    {
      "cell_type": "code",
      "metadata": {
        "id": "6fde09c7"
      },
      "source": [
        "txt = df_req[\"RMK_TEXT\"].astype(str).str.upper()\n",
        "fatal_keywords = [\"FATAL\", \"KILL\", \"DIED\", \"DEATH\", \"FATALITY\", \"FATALLY\"]\n",
        "cond_fatal = txt.apply(lambda x: any(k in x for k in fatal_keywords))\n",
        "df_req.loc[cond_fatal, \"FATAL_FLAG\"] = \"Yes\"\n",
        "df_req[\"FATAL_FLAG\"] = df_req[\"FATAL_FLAG\"].fillna(\"No\")"
      ],
      "execution_count": 32,
      "outputs": []
    },
    {
      "cell_type": "code",
      "metadata": {
        "id": "5287a37b"
      },
      "source": [
        "for col in [\"FLT_PHASE\", \"ACFT_DMG_DESC\"]:\n",
        "    mode_val = df_req[col].mode(dropna=True)[0]\n",
        "    df_req[col] = df_req[col].fillna(mode_val)"
      ],
      "execution_count": 33,
      "outputs": []
    },
    {
      "cell_type": "code",
      "metadata": {
        "colab": {
          "base_uri": "https://localhost:8080/"
        },
        "id": "f2eff57b",
        "outputId": "685da887-4cb0-4a10-b389-cf6cdc8e4263"
      },
      "source": [
        "print(\"Missing values:\\n\", df_req.isnull().sum())"
      ],
      "execution_count": 34,
      "outputs": [
        {
          "output_type": "stream",
          "name": "stdout",
          "text": [
            "Missing values:\n",
            " ACFT_MAKE_NAME     5\n",
            "LOC_STATE_NAME     0\n",
            "ACFT_MODEL_NAME    4\n",
            "RMK_TEXT           0\n",
            "FLT_PHASE          0\n",
            "EVENT_TYPE_DESC    0\n",
            "FATAL_FLAG         0\n",
            "ACFT_DMG_DESC      0\n",
            "dtype: int64\n"
          ]
        }
      ]
    },
    {
      "cell_type": "code",
      "metadata": {
        "colab": {
          "base_uri": "https://localhost:8080/"
        },
        "id": "44dfe44c",
        "outputId": "414f1542-b915-4bc4-d2d9-26d1d3c8a7bd"
      },
      "source": [
        "before_count = df_req.shape[0]\n",
        "df_req = df_req[df_req[\"ACFT_MAKE_NAME\"].notna() & (df_req[\"ACFT_MAKE_NAME\"].str.strip() != \"\")]\n",
        "df_req = df_req[df_req[\"ACFT_MODEL_NAME\"].notna() & (df_req[\"ACFT_MODEL_NAME\"].str.strip() != \"\")]\n",
        "after_count = df_req.shape[0]\n",
        "print(f\"Dropped {before_count - after_count} rows with missing aircraft names.\")"
      ],
      "execution_count": 35,
      "outputs": [
        {
          "output_type": "stream",
          "name": "stdout",
          "text": [
            "Dropped 6 rows with missing aircraft names.\n"
          ]
        }
      ]
    },
    {
      "cell_type": "code",
      "metadata": {
        "id": "ac0ad038"
      },
      "source": [
        "threshold = 0.75 * len(df)\n",
        "# Keep 'FATAL_FLAG' column even if it has missing values as they were handled in a previous step\n",
        "cols_to_drop = [col for col in df.columns if df[col].isnull().sum() > threshold and col != 'FATAL_FLAG']\n",
        "df_req = df_req.drop(columns=[c for c in cols_to_drop if c in df_req.columns])"
      ],
      "execution_count": 36,
      "outputs": []
    },
    {
      "cell_type": "code",
      "metadata": {
        "colab": {
          "base_uri": "https://localhost:8080/"
        },
        "id": "eb4394d6",
        "outputId": "20e18e85-991b-4813-cbaa-1232e6a9c3c9"
      },
      "source": [
        "print(df_req[df_req[\"FATAL_FLAG\"] == \"Yes\"])"
      ],
      "execution_count": 37,
      "outputs": [
        {
          "output_type": "stream",
          "name": "stdout",
          "text": [
            "    ACFT_MAKE_NAME  LOC_STATE_NAME ACFT_MODEL_NAME  \\\n",
            "0            BEECH  North Carolina              36   \n",
            "53           PIPER         Florida            PA28   \n",
            "55   FLIGHT DESIGN      California            CTLS   \n",
            "79  NORTH AMERICAN         Arizona             F51   \n",
            "80        CHAMPION      California           8KCAB   \n",
            "81           BEECH      California              35   \n",
            "82          CESSNA         Alabama             182   \n",
            "\n",
            "                                             RMK_TEXT      FLT_PHASE  \\\n",
            "0   AIRCRAFT CRASHED INTO TREES, THE 1 PERSON ON B...  UNKNOWN (UNK)   \n",
            "53  AIRCRAFT CRASHED UNDER UNKNOWN CIRCUMSTANCES. ...  UNKNOWN (UNK)   \n",
            "55  AIRCRAFT CRASHED UNDER UNKNOWN CIRCUMSTANCES A...  UNKNOWN (UNK)   \n",
            "79  AIRCRAFT CRASHED UNDER UNKNOWN CIRCUMSTANCES, ...  UNKNOWN (UNK)   \n",
            "80  N9872R, BEECH M35 AIRCRAFT, AND N5057G, BELLAN...  UNKNOWN (UNK)   \n",
            "81  N9872R, BEECH M35 AIRCRAFT, AND N5057G, BELLAN...  UNKNOWN (UNK)   \n",
            "82  N784CP AIRCRAFT CRASHED INTO A WOODED AREA NEA...  UNKNOWN (UNK)   \n",
            "\n",
            "   EVENT_TYPE_DESC FATAL_FLAG ACFT_DMG_DESC  \n",
            "0         Accident        Yes       Unknown  \n",
            "53        Accident        Yes     Destroyed  \n",
            "55        Accident        Yes     Destroyed  \n",
            "79        Accident        Yes     Destroyed  \n",
            "80        Accident        Yes     Destroyed  \n",
            "81        Accident        Yes     Destroyed  \n",
            "82        Accident        Yes       Unknown  \n"
          ]
        }
      ]
    },
    {
      "cell_type": "code",
      "source": [
        "dummies = pd.get_dummies(df_req[\"ACFT_DMG_DESC\"], prefix=\"DMG\")\n",
        "dummies = dummies.iloc[:, :-1]  # drop last column\n",
        "df_req = pd.concat([df_req.drop(columns=[\"ACFT_DMG_DESC\"]), dummies], axis=1)\n"
      ],
      "metadata": {
        "id": "3JAmlkWx4dTH"
      },
      "execution_count": 38,
      "outputs": []
    },
    {
      "cell_type": "code",
      "source": [
        "keywords = {\n",
        "    \"LANDING\": \"LANDING\",\n",
        "    \"TAKEOFF\": \"TAKEOFF\",\n",
        "    \"TAKE-OFF\": \"TAKEOFF\",\n",
        "    \"TAKE OFF\": \"TAKEOFF\",\n",
        "    \"CRUISE\": \"CRUISE\",\n",
        "    \"APPROACH\": \"APPROACH\",\n",
        "    \"CLIMB\": \"CLIMB\",\n",
        "    \"DESCENT\": \"DESCENT\",\n",
        "    \"TOUCHDOWN\": \"LANDING\",\n",
        "    \"ROLL\": \"LANDING\"\n",
        "}\n",
        "\n",
        "def extract_phase(text):\n",
        "    text = str(text).upper()\n",
        "    for k, v in keywords.items():\n",
        "        if k in text:\n",
        "            return v\n",
        "    return \"UNKNOWN\"\n",
        "\n",
        "df_req[\"FLIGHT_PHASE_TEXT\"] = df_req[\"RMK_TEXT\"].apply(extract_phase)\n"
      ],
      "metadata": {
        "id": "rzKD-FQF4fJr"
      },
      "execution_count": 39,
      "outputs": []
    },
    {
      "cell_type": "code",
      "source": [
        "comparison = pd.crosstab(df_req[\"FLT_PHASE\"], df_req[\"FLIGHT_PHASE_TEXT\"])\n",
        "print(comparison)\n"
      ],
      "metadata": {
        "colab": {
          "base_uri": "https://localhost:8080/"
        },
        "id": "7X-IGiQO4kzk",
        "outputId": "f8ceffbe-9b31-4e66-e6d6-284d66c88f8e"
      },
      "execution_count": 40,
      "outputs": [
        {
          "output_type": "stream",
          "name": "stdout",
          "text": [
            "FLIGHT_PHASE_TEXT  APPROACH  LANDING  TAKEOFF  UNKNOWN\n",
            "FLT_PHASE                                             \n",
            "APPROACH (APR)            1        0        0        1\n",
            "LANDING (LDG)             0       32        0       11\n",
            "STANDING (STD)            0        0        0        3\n",
            "TAKEOFF (TOF)             0        0        4        2\n",
            "TAXI (TXI)                0        1        0        9\n",
            "UNKNOWN (UNK)             0        0        0       13\n"
          ]
        }
      ]
    },
    {
      "cell_type": "code",
      "source": [
        "print(\"Final shape:\", df_req.shape)\n",
        "df_req.to_csv(\"aviation_cleaned.csv\", index=False)\n",
        "print(\"Saved cleaned dataset to aviation_cleaned.csv\")"
      ],
      "metadata": {
        "colab": {
          "base_uri": "https://localhost:8080/"
        },
        "id": "-F6AMRjs4pCx",
        "outputId": "11d31ec0-e93b-4cf7-9555-e2f8c1bca647"
      },
      "execution_count": 42,
      "outputs": [
        {
          "output_type": "stream",
          "name": "stdout",
          "text": [
            "Final shape: (77, 11)\n",
            "Saved cleaned dataset to aviation_cleaned.csv\n"
          ]
        }
      ]
    }
  ]
}