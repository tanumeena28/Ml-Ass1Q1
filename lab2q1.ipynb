{
  "nbformat": 4,
  "nbformat_minor": 0,
  "metadata": {
    "colab": {
      "provenance": [],
      "authorship_tag": "ABX9TyM8MRtL3XCM/DSWFmIxe98m",
      "include_colab_link": true
    },
    "kernelspec": {
      "name": "python3",
      "display_name": "Python 3"
    },
    "language_info": {
      "name": "python"
    }
  },
  "cells": [
    {
      "cell_type": "markdown",
      "metadata": {
        "id": "view-in-github",
        "colab_type": "text"
      },
      "source": [
        "<a href=\"https://colab.research.google.com/github/tanumeena28/Ml-Ass1Q1/blob/main/lab2q1.ipynb\" target=\"_parent\"><img src=\"https://colab.research.google.com/assets/colab-badge.svg\" alt=\"Open In Colab\"/></a>"
      ]
    },
    {
      "cell_type": "code",
      "execution_count": 8,
      "metadata": {
        "id": "VSqgKEeeWulv"
      },
      "outputs": [],
      "source": [
        "import numpy as np\n",
        "import pandas as pd\n",
        "import matplotlib.pyplot as plt\n",
        "import seaborn as sns\n",
        "import warnings\n",
        "warnings.filterwarnings('ignore')"
      ]
    },
    {
      "cell_type": "code",
      "source": [
        "from google.colab import files\n",
        "uploaded = files.upload()"
      ],
      "metadata": {
        "id": "AP2Cta8JZ47c",
        "colab": {
          "base_uri": "https://localhost:8080/",
          "height": 73
        },
        "outputId": "cb4cd4b1-8ae1-4944-c556-ffea91d78cf6"
      },
      "execution_count": 9,
      "outputs": [
        {
          "output_type": "display_data",
          "data": {
            "text/plain": [
              "<IPython.core.display.HTML object>"
            ],
            "text/html": [
              "\n",
              "     <input type=\"file\" id=\"files-ac9614df-f027-41d5-b186-15f5c82e2b59\" name=\"files[]\" multiple disabled\n",
              "        style=\"border:none\" />\n",
              "     <output id=\"result-ac9614df-f027-41d5-b186-15f5c82e2b59\">\n",
              "      Upload widget is only available when the cell has been executed in the\n",
              "      current browser session. Please rerun this cell to enable.\n",
              "      </output>\n",
              "      <script>// Copyright 2017 Google LLC\n",
              "//\n",
              "// Licensed under the Apache License, Version 2.0 (the \"License\");\n",
              "// you may not use this file except in compliance with the License.\n",
              "// You may obtain a copy of the License at\n",
              "//\n",
              "//      http://www.apache.org/licenses/LICENSE-2.0\n",
              "//\n",
              "// Unless required by applicable law or agreed to in writing, software\n",
              "// distributed under the License is distributed on an \"AS IS\" BASIS,\n",
              "// WITHOUT WARRANTIES OR CONDITIONS OF ANY KIND, either express or implied.\n",
              "// See the License for the specific language governing permissions and\n",
              "// limitations under the License.\n",
              "\n",
              "/**\n",
              " * @fileoverview Helpers for google.colab Python module.\n",
              " */\n",
              "(function(scope) {\n",
              "function span(text, styleAttributes = {}) {\n",
              "  const element = document.createElement('span');\n",
              "  element.textContent = text;\n",
              "  for (const key of Object.keys(styleAttributes)) {\n",
              "    element.style[key] = styleAttributes[key];\n",
              "  }\n",
              "  return element;\n",
              "}\n",
              "\n",
              "// Max number of bytes which will be uploaded at a time.\n",
              "const MAX_PAYLOAD_SIZE = 100 * 1024;\n",
              "\n",
              "function _uploadFiles(inputId, outputId) {\n",
              "  const steps = uploadFilesStep(inputId, outputId);\n",
              "  const outputElement = document.getElementById(outputId);\n",
              "  // Cache steps on the outputElement to make it available for the next call\n",
              "  // to uploadFilesContinue from Python.\n",
              "  outputElement.steps = steps;\n",
              "\n",
              "  return _uploadFilesContinue(outputId);\n",
              "}\n",
              "\n",
              "// This is roughly an async generator (not supported in the browser yet),\n",
              "// where there are multiple asynchronous steps and the Python side is going\n",
              "// to poll for completion of each step.\n",
              "// This uses a Promise to block the python side on completion of each step,\n",
              "// then passes the result of the previous step as the input to the next step.\n",
              "function _uploadFilesContinue(outputId) {\n",
              "  const outputElement = document.getElementById(outputId);\n",
              "  const steps = outputElement.steps;\n",
              "\n",
              "  const next = steps.next(outputElement.lastPromiseValue);\n",
              "  return Promise.resolve(next.value.promise).then((value) => {\n",
              "    // Cache the last promise value to make it available to the next\n",
              "    // step of the generator.\n",
              "    outputElement.lastPromiseValue = value;\n",
              "    return next.value.response;\n",
              "  });\n",
              "}\n",
              "\n",
              "/**\n",
              " * Generator function which is called between each async step of the upload\n",
              " * process.\n",
              " * @param {string} inputId Element ID of the input file picker element.\n",
              " * @param {string} outputId Element ID of the output display.\n",
              " * @return {!Iterable<!Object>} Iterable of next steps.\n",
              " */\n",
              "function* uploadFilesStep(inputId, outputId) {\n",
              "  const inputElement = document.getElementById(inputId);\n",
              "  inputElement.disabled = false;\n",
              "\n",
              "  const outputElement = document.getElementById(outputId);\n",
              "  outputElement.innerHTML = '';\n",
              "\n",
              "  const pickedPromise = new Promise((resolve) => {\n",
              "    inputElement.addEventListener('change', (e) => {\n",
              "      resolve(e.target.files);\n",
              "    });\n",
              "  });\n",
              "\n",
              "  const cancel = document.createElement('button');\n",
              "  inputElement.parentElement.appendChild(cancel);\n",
              "  cancel.textContent = 'Cancel upload';\n",
              "  const cancelPromise = new Promise((resolve) => {\n",
              "    cancel.onclick = () => {\n",
              "      resolve(null);\n",
              "    };\n",
              "  });\n",
              "\n",
              "  // Wait for the user to pick the files.\n",
              "  const files = yield {\n",
              "    promise: Promise.race([pickedPromise, cancelPromise]),\n",
              "    response: {\n",
              "      action: 'starting',\n",
              "    }\n",
              "  };\n",
              "\n",
              "  cancel.remove();\n",
              "\n",
              "  // Disable the input element since further picks are not allowed.\n",
              "  inputElement.disabled = true;\n",
              "\n",
              "  if (!files) {\n",
              "    return {\n",
              "      response: {\n",
              "        action: 'complete',\n",
              "      }\n",
              "    };\n",
              "  }\n",
              "\n",
              "  for (const file of files) {\n",
              "    const li = document.createElement('li');\n",
              "    li.append(span(file.name, {fontWeight: 'bold'}));\n",
              "    li.append(span(\n",
              "        `(${file.type || 'n/a'}) - ${file.size} bytes, ` +\n",
              "        `last modified: ${\n",
              "            file.lastModifiedDate ? file.lastModifiedDate.toLocaleDateString() :\n",
              "                                    'n/a'} - `));\n",
              "    const percent = span('0% done');\n",
              "    li.appendChild(percent);\n",
              "\n",
              "    outputElement.appendChild(li);\n",
              "\n",
              "    const fileDataPromise = new Promise((resolve) => {\n",
              "      const reader = new FileReader();\n",
              "      reader.onload = (e) => {\n",
              "        resolve(e.target.result);\n",
              "      };\n",
              "      reader.readAsArrayBuffer(file);\n",
              "    });\n",
              "    // Wait for the data to be ready.\n",
              "    let fileData = yield {\n",
              "      promise: fileDataPromise,\n",
              "      response: {\n",
              "        action: 'continue',\n",
              "      }\n",
              "    };\n",
              "\n",
              "    // Use a chunked sending to avoid message size limits. See b/62115660.\n",
              "    let position = 0;\n",
              "    do {\n",
              "      const length = Math.min(fileData.byteLength - position, MAX_PAYLOAD_SIZE);\n",
              "      const chunk = new Uint8Array(fileData, position, length);\n",
              "      position += length;\n",
              "\n",
              "      const base64 = btoa(String.fromCharCode.apply(null, chunk));\n",
              "      yield {\n",
              "        response: {\n",
              "          action: 'append',\n",
              "          file: file.name,\n",
              "          data: base64,\n",
              "        },\n",
              "      };\n",
              "\n",
              "      let percentDone = fileData.byteLength === 0 ?\n",
              "          100 :\n",
              "          Math.round((position / fileData.byteLength) * 100);\n",
              "      percent.textContent = `${percentDone}% done`;\n",
              "\n",
              "    } while (position < fileData.byteLength);\n",
              "  }\n",
              "\n",
              "  // All done.\n",
              "  yield {\n",
              "    response: {\n",
              "      action: 'complete',\n",
              "    }\n",
              "  };\n",
              "}\n",
              "\n",
              "scope.google = scope.google || {};\n",
              "scope.google.colab = scope.google.colab || {};\n",
              "scope.google.colab._files = {\n",
              "  _uploadFiles,\n",
              "  _uploadFilesContinue,\n",
              "};\n",
              "})(self);\n",
              "</script> "
            ]
          },
          "metadata": {}
        },
        {
          "output_type": "stream",
          "name": "stdout",
          "text": [
            "Saving Housing.csv to Housing.csv\n"
          ]
        }
      ]
    },
    {
      "cell_type": "code",
      "source": [
        "df = pd.read_csv('Housing.csv')"
      ],
      "metadata": {
        "id": "4speoDgwYv_P"
      },
      "execution_count": 10,
      "outputs": []
    },
    {
      "cell_type": "code",
      "source": [
        "target_col = 'price'"
      ],
      "metadata": {
        "id": "akBMrkd0aSam"
      },
      "execution_count": 11,
      "outputs": []
    },
    {
      "cell_type": "code",
      "source": [
        "def fill_with_zero(data):\n",
        "    df_copy = data.copy()\n",
        "    for col in df_copy.columns:\n",
        "        if df_copy[col].dtype in [np.float64, np.int64]:\n",
        "            df_copy[col] = [0 if pd.isna(x) else x for x in df_copy[col]]\n",
        "    return df_copy\n"
      ],
      "metadata": {
        "id": "S__tlNNQamwu"
      },
      "execution_count": 12,
      "outputs": []
    },
    {
      "cell_type": "code",
      "source": [
        "def fill_with_mean(data):\n",
        "    df_copy = data.copy()\n",
        "    for col in df_copy.columns:\n",
        "        if df_copy[col].dtype in [np.float64, np.int64]:\n",
        "            mean_val = df_copy[col].dropna().sum() / df_copy[col].dropna().shape[0]\n",
        "            df_copy[col] = [mean_val if pd.isna(x) else x for x in df_copy[col]]\n",
        "    return df_copy\n"
      ],
      "metadata": {
        "id": "WHxO1iM6rK7D"
      },
      "execution_count": 13,
      "outputs": []
    },
    {
      "cell_type": "code",
      "source": [
        "def fill_with_median(data):\n",
        "    df_copy = data.copy()\n",
        "    for col in df_copy.columns:\n",
        "        if df_copy[col].dtype in [np.float64, np.int64]:\n",
        "            sorted_vals = sorted(df_copy[col].dropna())\n",
        "            n = len(sorted_vals)\n",
        "            median_val = (sorted_vals[n//2] if n % 2 != 0 else\n",
        "                          (sorted_vals[n//2 - 1] + sorted_vals[n//2]) / 2)\n",
        "            df_copy[col] = [median_val if pd.isna(x) else x for x in df_copy[col]]\n",
        "    return df_copy"
      ],
      "metadata": {
        "id": "NbvDqM_grWaG"
      },
      "execution_count": 14,
      "outputs": []
    },
    {
      "cell_type": "markdown",
      "source": [
        "Normalization"
      ],
      "metadata": {
        "id": "zO3Fvgpjribj"
      }
    },
    {
      "cell_type": "code",
      "source": [
        "def min_max_scale(data):\n",
        "    df_copy = data.copy()\n",
        "    for col in df_copy.columns:\n",
        "        if df_copy[col].dtype in [np.float64, np.int64]:\n",
        "            min_val = df_copy[col].min()\n",
        "            max_val = df_copy[col].max()\n",
        "            if min_val != max_val:\n",
        "                df_copy[col] = [(x - min_val) / (max_val - min_val) for x in df_copy[col]]\n",
        "            else:\n",
        "                df_copy[col] = 0\n",
        "    return df_copy\n",
        "\n",
        "def standard_scale(data):\n",
        "    df_copy = data.copy()\n",
        "    for col in df_copy.columns:\n",
        "        if df_copy[col].dtype in [np.float64, np.int64]:\n",
        "            mean_val = df_copy[col].mean()\n",
        "            std_val = df_copy[col].std()\n",
        "            if std_val != 0:\n",
        "                df_copy[col] = [(x - mean_val) / std_val for x in df_copy[col]]\n",
        "            else:\n",
        "                df_copy[col] = 0\n",
        "    return df_copy\n"
      ],
      "metadata": {
        "id": "848rYIFYrlOD"
      },
      "execution_count": 15,
      "outputs": []
    },
    {
      "cell_type": "markdown",
      "source": [],
      "metadata": {
        "id": "p_34DkSSsWaW"
      }
    },
    {
      "cell_type": "markdown",
      "source": [
        "Outliers Remove"
      ],
      "metadata": {
        "id": "9Lul_vZOsNYw"
      }
    },
    {
      "cell_type": "code",
      "source": [
        "def remove_outliers_iqr(data):\n",
        "    df_copy = data.copy()\n",
        "    for col in df_copy.columns:\n",
        "        if df_copy[col].dtype in [np.float64, np.int64]:\n",
        "            Q1 = df_copy[col].quantile(0.25)\n",
        "            Q3 = df_copy[col].quantile(0.75)\n",
        "            IQR = Q3 - Q1\n",
        "            lower = Q1 - 1.5 * IQR\n",
        "            upper = Q3 + 1.5 * IQR\n",
        "            df_copy = df_copy[(df_copy[col] >= lower) & (df_copy[col] <= upper)]\n",
        "    return df_copy\n"
      ],
      "metadata": {
        "id": "So0mPS-SsPdc"
      },
      "execution_count": 16,
      "outputs": []
    },
    {
      "cell_type": "markdown",
      "source": [
        "Lenear regression"
      ],
      "metadata": {
        "id": "vXGQcIPPseAH"
      }
    },
    {
      "cell_type": "code",
      "source": [
        "def linear_regression_manual(X, y):\n",
        "    X = np.c_[np.ones(X.shape[0]), X]  # Add intercept\n",
        "    theta = np.linalg.pinv(X.T @ X) @ X.T @ y\n",
        "    y_pred = X @ theta\n",
        "    mse = np.mean((y - y_pred) ** 2)\n",
        "    return theta, mse"
      ],
      "metadata": {
        "id": "ESzJ6qagspJc"
      },
      "execution_count": 17,
      "outputs": []
    },
    {
      "cell_type": "code",
      "source": [
        "fill_strategies = {\n",
        "    \"zero\": fill_with_zero,\n",
        "    \"mean\": fill_with_mean,\n",
        "    \"median\": fill_with_median\n",
        "}\n",
        "\n",
        "norm_strategies = {\n",
        "    \"minmax\": min_max_scale,\n",
        "    \"standard\": standard_scale\n",
        "}\n",
        "\n",
        "results = []\n",
        "\n",
        "for fill_name, fill_func in fill_strategies.items():\n",
        "    df_filled = fill_func(df.copy())\n",
        "    for norm_name, norm_func in norm_strategies.items():\n",
        "        df_norm = norm_func(df_filled.copy())\n",
        "\n",
        "        for outlier_flag in [False, True]:\n",
        "            df_exp = df_norm.copy()\n",
        "            if outlier_flag:\n",
        "                df_exp = remove_outliers_iqr(df_exp)\n",
        "\n",
        "            # Drop rows missing target\n",
        "            df_exp = df_exp.dropna(subset=[target_col])\n",
        "\n",
        "            # Select numeric features only\n",
        "            X = df_exp.drop(columns=[target_col]).select_dtypes(include=[np.number])\n",
        "            y = df_exp[target_col].values\n",
        "\n",
        "            if X.shape[0] > 0 and X.shape[1] > 0:\n",
        "                theta, mse = linear_regression_manual(X.values, y)\n",
        "                results.append({\n",
        "                    \"fill\": fill_name,\n",
        "                    \"norm\": norm_name,\n",
        "                    \"outliers_removed\": outlier_flag,\n",
        "                    \"mse\": mse\n",
        "                })"
      ],
      "metadata": {
        "id": "lokk8Q87sr-Y"
      },
      "execution_count": 18,
      "outputs": []
    },
    {
      "cell_type": "code",
      "source": [
        "results_df = pd.DataFrame(results).sort_values(by=\"mse\")\n",
        "print(results_df)"
      ],
      "metadata": {
        "colab": {
          "base_uri": "https://localhost:8080/"
        },
        "id": "KjjypyhktK6-",
        "outputId": "36fd0c55-2774-4075-8070-4d85811f75d7"
      },
      "execution_count": 19,
      "outputs": [
        {
          "output_type": "stream",
          "name": "stdout",
          "text": [
            "      fill      norm  outliers_removed       mse\n",
            "1     zero    minmax              True  0.007382\n",
            "5     mean    minmax              True  0.007382\n",
            "9   median    minmax              True  0.007382\n",
            "4     mean    minmax             False  0.011477\n",
            "8   median    minmax             False  0.011477\n",
            "0     zero    minmax             False  0.011477\n",
            "7     mean  standard              True  0.281477\n",
            "3     zero  standard              True  0.281477\n",
            "11  median  standard              True  0.281477\n",
            "2     zero  standard             False  0.437613\n",
            "6     mean  standard             False  0.437613\n",
            "10  median  standard             False  0.437613\n"
          ]
        }
      ]
    }
  ]
}